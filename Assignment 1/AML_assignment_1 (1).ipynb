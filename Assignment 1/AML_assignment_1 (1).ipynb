{
 "cells": [
  {
   "cell_type": "markdown",
   "metadata": {
    "id": "Z1Tqhc9QUSh2"
   },
   "source": [
    "Assignment 1: Neural Networks\n",
    "    Yashwanth Reddy Sadala"
   ]
  },
  {
   "cell_type": "markdown",
   "metadata": {},
   "source": [
    "loading in all required modules"
   ]
  },
  {
   "cell_type": "code",
   "execution_count": 9,
   "metadata": {
    "id": "Wz2CLHqVGTgw"
   },
   "outputs": [],
   "source": [
    "import os\n",
    "from operator import itemgetter\n",
    "import numpy as np\n",
    "import pandas as pd\n",
    "import matplotlib.pyplot as plt\n",
    "import tensorflow as tf\n",
    "\n",
    "from keras import models, regularizers, layers, optimizers, losses, metrics\n",
    "from keras.models import Sequential\n",
    "from keras.layers import Dense\n",
    "\n",
    "from keras.datasets import imdb"
   ]
  },
  {
   "cell_type": "markdown",
   "metadata": {
    "id": "bWWXmkg9UhrQ"
   },
   "source": [
    "IMDB data loading"
   ]
  },
  {
   "cell_type": "code",
   "execution_count": 10,
   "metadata": {
    "id": "Zf6zhyX8UC_X"
   },
   "outputs": [],
   "source": [
    "(traindata, trainlabels), (testdata, testlabels) = imdb.load_data(\n",
    "num_words=10000)"
   ]
  },
  {
   "cell_type": "markdown",
   "metadata": {
    "id": "LKyl9kHXGkRx"
   },
   "source": [
    "*Vectorizing* the data"
   ]
  },
  {
   "cell_type": "code",
   "execution_count": 11,
   "metadata": {
    "id": "r1k5-R1EGlAl"
   },
   "outputs": [],
   "source": [
    "def vectorize_sequences(sequences, dimension=10000):\n",
    "    results = np.zeros((len(sequences), dimension))\n",
    "    for i, sequence in enumerate(sequences):\n",
    "        results[i, sequence] = 1.\n",
    "    return results"
   ]
  },
  {
   "cell_type": "markdown",
   "metadata": {
    "id": "imdN6v_aUvmb"
   },
   "source": []
  },
  {
   "cell_type": "code",
   "execution_count": 12,
   "metadata": {
    "id": "gjnun7fbUwMg"
   },
   "outputs": [],
   "source": [
    "x_training = vectorize_sequences(traindata)\n",
    "x_testing = vectorize_sequences(testdata)\n"
   ]
  },
  {
   "cell_type": "code",
   "execution_count": 13,
   "metadata": {
    "colab": {
     "base_uri": "https://localhost:8080/"
    },
    "id": "2HxYMo-0VJ0-",
    "outputId": "6a13da51-d9ba-437f-e941-1ebe7ab21b0f"
   },
   "outputs": [
    {
     "name": "stdout",
     "output_type": "stream",
     "text": [
      "y_training  (25000,)\n",
      "y_testing  (25000,)\n"
     ]
    }
   ],
   "source": [
    "y_training = np.asarray(trainlabels).astype('float32')\n",
    "y_testing = np.asarray(testlabels).astype('float32')\n",
    "print(\"y_training \", y_training.shape)\n",
    "print(\"y_testing \", y_testing.shape)"
   ]
  },
  {
   "cell_type": "code",
   "execution_count": 14,
   "metadata": {
    "id": "9GGAvfJNVNMs"
   },
   "outputs": [],
   "source": [
    "x_value = x_training[:10000]\n",
    "partial_x_training = x_training[10000:]\n",
    "y_value = y_training[:10000]\n",
    "partial_y_training = y_training[10000:]"
   ]
  },
  {
   "cell_type": "markdown",
   "metadata": {
    "id": "Nv0jSSvHVWRK"
   },
   "source": [
    "\n",
    "Building a model with two hidden layers, 16 hidden units, and the relu activation function"
   ]
  },
  {
   "cell_type": "code",
   "execution_count": 16,
   "metadata": {
    "id": "ycajU8zHVdpy"
   },
   "outputs": [],
   "source": [
    "model = models.Sequential()\n",
    "model.add(layers.Dense(16,  activation='relu', input_shape=(10000,)))\n",
    "model.add(layers.Dense(16, activation='relu'))\n",
    "model.add(layers.Dense(1, activation='sigmoid'))"
   ]
  },
  {
   "cell_type": "markdown",
   "metadata": {
    "id": "hwXoNO5SVhcO"
   },
   "source": [
    "Utilizing the binary crossentropy loss function and the rnsprob optimizer to compile the model"
   ]
  },
  {
   "cell_type": "code",
   "execution_count": 18,
   "metadata": {
    "colab": {
     "base_uri": "https://localhost:8080/"
    },
    "id": "s7TH2TLaVg-N",
    "outputId": "5fa3bbe2-da6a-48c8-ba2e-148bff0cadb6"
   },
   "outputs": [
    {
     "name": "stdout",
     "output_type": "stream",
     "text": [
      "Epoch 1/20\n",
      "WARNING:tensorflow:From C:\\Users\\yashw\\anaconda3\\Lib\\site-packages\\keras\\src\\utils\\tf_utils.py:492: The name tf.ragged.RaggedTensorValue is deprecated. Please use tf.compat.v1.ragged.RaggedTensorValue instead.\n",
      "\n",
      "WARNING:tensorflow:From C:\\Users\\yashw\\anaconda3\\Lib\\site-packages\\keras\\src\\engine\\base_layer_utils.py:384: The name tf.executing_eagerly_outside_functions is deprecated. Please use tf.compat.v1.executing_eagerly_outside_functions instead.\n",
      "\n",
      "30/30 [==============================] - 6s 133ms/step - loss: 0.5715 - acc: 0.7635 - val_loss: 0.4512 - val_acc: 0.8534\n",
      "Epoch 2/20\n",
      "30/30 [==============================] - 1s 37ms/step - loss: 0.3782 - acc: 0.8809 - val_loss: 0.3645 - val_acc: 0.8569\n",
      "Epoch 3/20\n",
      "30/30 [==============================] - 1s 46ms/step - loss: 0.2824 - acc: 0.9077 - val_loss: 0.3074 - val_acc: 0.8794\n",
      "Epoch 4/20\n",
      "30/30 [==============================] - 1s 40ms/step - loss: 0.2299 - acc: 0.9219 - val_loss: 0.3150 - val_acc: 0.8731\n",
      "Epoch 5/20\n",
      "30/30 [==============================] - 2s 56ms/step - loss: 0.1932 - acc: 0.9349 - val_loss: 0.2804 - val_acc: 0.8874\n",
      "Epoch 6/20\n",
      "30/30 [==============================] - 1s 35ms/step - loss: 0.1670 - acc: 0.9464 - val_loss: 0.2772 - val_acc: 0.8871\n",
      "Epoch 7/20\n",
      "30/30 [==============================] - 1s 45ms/step - loss: 0.1426 - acc: 0.9550 - val_loss: 0.2838 - val_acc: 0.8863\n",
      "Epoch 8/20\n",
      "30/30 [==============================] - 1s 37ms/step - loss: 0.1248 - acc: 0.9614 - val_loss: 0.2899 - val_acc: 0.8855\n",
      "Epoch 9/20\n",
      "30/30 [==============================] - 2s 52ms/step - loss: 0.1103 - acc: 0.9670 - val_loss: 0.3272 - val_acc: 0.8791\n",
      "Epoch 10/20\n",
      "30/30 [==============================] - 1s 44ms/step - loss: 0.0957 - acc: 0.9736 - val_loss: 0.3346 - val_acc: 0.8797\n",
      "Epoch 11/20\n",
      "30/30 [==============================] - 1s 36ms/step - loss: 0.0836 - acc: 0.9767 - val_loss: 0.3281 - val_acc: 0.8787\n",
      "Epoch 12/20\n",
      "30/30 [==============================] - 1s 34ms/step - loss: 0.0726 - acc: 0.9803 - val_loss: 0.3460 - val_acc: 0.8819\n",
      "Epoch 13/20\n",
      "30/30 [==============================] - 1s 45ms/step - loss: 0.0647 - acc: 0.9839 - val_loss: 0.3604 - val_acc: 0.8789\n",
      "Epoch 14/20\n",
      "30/30 [==============================] - 1s 29ms/step - loss: 0.0546 - acc: 0.9876 - val_loss: 0.3829 - val_acc: 0.8796\n",
      "Epoch 15/20\n",
      "30/30 [==============================] - 1s 31ms/step - loss: 0.0495 - acc: 0.9887 - val_loss: 0.4108 - val_acc: 0.8760\n",
      "Epoch 16/20\n",
      "30/30 [==============================] - 1s 31ms/step - loss: 0.0425 - acc: 0.9915 - val_loss: 0.4174 - val_acc: 0.8750\n",
      "Epoch 17/20\n",
      "30/30 [==============================] - 1s 31ms/step - loss: 0.0367 - acc: 0.9937 - val_loss: 0.4453 - val_acc: 0.8759\n",
      "Epoch 18/20\n",
      "30/30 [==============================] - 1s 37ms/step - loss: 0.0304 - acc: 0.9953 - val_loss: 0.4742 - val_acc: 0.8669\n",
      "Epoch 19/20\n",
      "30/30 [==============================] - 2s 56ms/step - loss: 0.0266 - acc: 0.9963 - val_loss: 0.5001 - val_acc: 0.8716\n",
      "Epoch 20/20\n",
      "30/30 [==============================] - 1s 33ms/step - loss: 0.0216 - acc: 0.9973 - val_loss: 0.5024 - val_acc: 0.8719\n",
      "782/782 [==============================] - 4s 6ms/step - loss: 0.5409 - acc: 0.8616\n",
      "____________________________________________________________________________________________________\n",
      "Test Loss & Accuracy\n",
      "results  [0.5409067273139954, 0.8616399765014648]\n"
     ]
    },
    {
     "data": {
      "text/plain": [
       "dict_keys(['loss', 'acc', 'val_loss', 'val_acc'])"
      ]
     },
     "execution_count": 18,
     "metadata": {},
     "output_type": "execute_result"
    }
   ],
   "source": [
    "model.compile(optimizer='rmsprop', loss='binary_crossentropy', metrics=['acc'])\n",
    "\n",
    "history = model.fit(partial_x_training, partial_y_training, epochs=20, batch_size=512, validation_data=(x_value, y_value))\n",
    "\n",
    "results = model.evaluate(x_testing, y_testing)\n",
    "print(\"_\"*100)\n",
    "print(\"Test Loss & Accuracy\")\n",
    "print(\"results \", results)\n",
    "history_dict = history.history\n",
    "history_dict.keys()"
   ]
  },
  {
   "cell_type": "markdown",
   "metadata": {
    "id": "zQnLvgVCVpZW"
   },
   "source": [
    "Plotting training and validation accuracy"
   ]
  },
  {
   "cell_type": "code",
   "execution_count": 19,
   "metadata": {
    "colab": {
     "base_uri": "https://localhost:8080/",
     "height": 295
    },
    "id": "-35qW41FVwg5",
    "outputId": "172448fa-e0b8-4b2d-be27-e3ab908c4fcf"
   },
   "outputs": [
    {
     "data": {
      "image/png": "[encoded data removed]",
      "text/plain": [
       "<Figure size 640x480 with 1 Axes>"
      ]
     },
     "metadata": {},
     "output_type": "display_data"
    }
   ],
   "source": [
    "plt.clf()\n",
    "acc_values = history_dict['acc']\n",
    "val_acc_values = history_dict['val_acc']\n",
    "epochs = range(1, (len(history_dict['acc']) + 1))\n",
    "plt.plot(epochs, acc_values, 'bo', label='Training acc')\n",
    "plt.plot(epochs, val_acc_values, 'b', label='Validation acc')\n",
    "plt.title('Training and validation accuracy')\n",
    "plt.xlabel('Epochs')\n",
    "plt.ylabel('Accuracy')\n",
    "plt.legend()\n",
    "plt.show()"
   ]
  },
  {
   "cell_type": "markdown",
   "metadata": {
    "id": "niVixwjUWBaJ"
   },
   "source": [
    "Plotting training and validation loss"
   ]
  },
  {
   "cell_type": "code",
   "execution_count": 20,
   "metadata": {
    "colab": {
     "base_uri": "https://localhost:8080/",
     "height": 295
    },
    "id": "gztqwUXJWFJi",
    "outputId": "86d1de32-e4b3-4f34-8f73-635dc49d406d"
   },
   "outputs": [
    {
     "data": {
      "image/png": "[encoded data removed]",
      "text/plain": [
       "<Figure size 640x480 with 1 Axes>"
      ]
     },
     "metadata": {},
     "output_type": "display_data"
    }
   ],
   "source": [
    "plt.clf()\n",
    "history_dict = history.history\n",
    "loss_values = history_dict['loss']\n",
    "val_loss_values = history_dict['val_loss']\n",
    "epochs = range(1, (len(history_dict['loss']) + 1))\n",
    "plt.plot(epochs, loss_values, 'bo', label='Training loss')\n",
    "plt.plot(epochs, val_loss_values, 'b', label='Validation loss')\n",
    "plt.title('Training and validation loss')\n",
    "plt.xlabel('Epochs')\n",
    "plt.ylabel('Loss')\n",
    "plt.legend()\n",
    "plt.show()"
   ]
  },
  {
   "cell_type": "markdown",
   "metadata": {
    "id": "ArlX0ilbWKlS"
   },
   "source": [
    "Building model using one hidden layer with 16 hidden units and relu activation function"
   ]
  },
  {
   "cell_type": "code",
   "execution_count": 21,
   "metadata": {
    "id": "UYO-K8OLWP1u"
   },
   "outputs": [],
   "source": [
    "model1 = models.Sequential()\n",
    "model.add(layers.Dense(16,  activation='relu', input_shape=(10000,)))\n",
    "model1.add(layers.Dense(1, activation='sigmoid'))"
   ]
  },
  {
   "cell_type": "code",
   "execution_count": 22,
   "metadata": {
    "colab": {
     "base_uri": "https://localhost:8080/"
    },
    "id": "MJxHLNygWSuh",
    "outputId": "d74f0635-f74a-44ee-ebba-3e94f5aa8e5b"
   },
   "outputs": [
    {
     "name": "stdout",
     "output_type": "stream",
     "text": [
      "Epoch 1/20\n",
      "30/30 [==============================] - 5s 125ms/step - loss: 0.6168 - acc: 0.7441 - val_loss: 0.5639 - val_acc: 0.8076\n",
      "Epoch 2/20\n",
      "30/30 [==============================] - 1s 35ms/step - loss: 0.5186 - acc: 0.8479 - val_loss: 0.4993 - val_acc: 0.8427\n",
      "Epoch 3/20\n",
      "30/30 [==============================] - 1s 32ms/step - loss: 0.4572 - acc: 0.8710 - val_loss: 0.4536 - val_acc: 0.8541\n",
      "Epoch 4/20\n",
      "30/30 [==============================] - 1s 37ms/step - loss: 0.4117 - acc: 0.8826 - val_loss: 0.4212 - val_acc: 0.8587\n",
      "Epoch 5/20\n",
      "30/30 [==============================] - 1s 33ms/step - loss: 0.3763 - acc: 0.8926 - val_loss: 0.3948 - val_acc: 0.8662\n",
      "Epoch 6/20\n",
      "30/30 [==============================] - 1s 28ms/step - loss: 0.3484 - acc: 0.9001 - val_loss: 0.3752 - val_acc: 0.8709\n",
      "Epoch 7/20\n",
      "30/30 [==============================] - 1s 31ms/step - loss: 0.3256 - acc: 0.9061 - val_loss: 0.3575 - val_acc: 0.8766\n",
      "Epoch 8/20\n",
      "30/30 [==============================] - 1s 29ms/step - loss: 0.3065 - acc: 0.9124 - val_loss: 0.3442 - val_acc: 0.8794\n",
      "Epoch 9/20\n",
      "30/30 [==============================] - 1s 29ms/step - loss: 0.2902 - acc: 0.9159 - val_loss: 0.3336 - val_acc: 0.8826\n",
      "Epoch 10/20\n",
      "30/30 [==============================] - 1s 37ms/step - loss: 0.2762 - acc: 0.9206 - val_loss: 0.3249 - val_acc: 0.8833\n",
      "Epoch 11/20\n",
      "30/30 [==============================] - 1s 26ms/step - loss: 0.2642 - acc: 0.9231 - val_loss: 0.3168 - val_acc: 0.8869\n",
      "Epoch 12/20\n",
      "30/30 [==============================] - 1s 25ms/step - loss: 0.2534 - acc: 0.9261 - val_loss: 0.3108 - val_acc: 0.8867\n",
      "Epoch 13/20\n",
      "30/30 [==============================] - 1s 30ms/step - loss: 0.2436 - acc: 0.9299 - val_loss: 0.3056 - val_acc: 0.8880\n",
      "Epoch 14/20\n",
      "30/30 [==============================] - 1s 31ms/step - loss: 0.2350 - acc: 0.9327 - val_loss: 0.3006 - val_acc: 0.8892\n",
      "Epoch 15/20\n",
      "30/30 [==============================] - 1s 24ms/step - loss: 0.2272 - acc: 0.9347 - val_loss: 0.2966 - val_acc: 0.8895\n",
      "Epoch 16/20\n",
      "30/30 [==============================] - 1s 29ms/step - loss: 0.2199 - acc: 0.9377 - val_loss: 0.2933 - val_acc: 0.8904\n",
      "Epoch 17/20\n",
      "30/30 [==============================] - 1s 27ms/step - loss: 0.2135 - acc: 0.9397 - val_loss: 0.2910 - val_acc: 0.8913\n",
      "Epoch 18/20\n",
      "30/30 [==============================] - 1s 33ms/step - loss: 0.2073 - acc: 0.9415 - val_loss: 0.2879 - val_acc: 0.8887\n",
      "Epoch 19/20\n",
      "30/30 [==============================] - 1s 28ms/step - loss: 0.2018 - acc: 0.9422 - val_loss: 0.2858 - val_acc: 0.8905\n",
      "Epoch 20/20\n",
      "30/30 [==============================] - 1s 32ms/step - loss: 0.1966 - acc: 0.9443 - val_loss: 0.2852 - val_acc: 0.8895\n",
      "782/782 [==============================] - 3s 4ms/step - loss: 0.3004 - acc: 0.8822\n",
      "____________________________________________________________________________________________________\n",
      "Test Loss & Accuracy\n",
      "results1  [0.3004164695739746, 0.8822399973869324]\n"
     ]
    },
    {
     "data": {
      "text/plain": [
       "dict_keys(['loss', 'acc', 'val_loss', 'val_acc'])"
      ]
     },
     "execution_count": 22,
     "metadata": {},
     "output_type": "execute_result"
    }
   ],
   "source": [
    "model1.compile(optimizer='rmsprop', loss='binary_crossentropy', metrics=['acc'])\n",
    "\n",
    "history1 = model1.fit(partial_x_training, partial_y_training, epochs=20, batch_size=512, validation_data=(x_value, y_value))\n",
    "\n",
    "results1 = model1.evaluate(x_testing, y_testing)\n",
    "print(\"_\"*100)\n",
    "print(\"Test Loss & Accuracy\")\n",
    "print(\"results1 \", results1)\n",
    "history_dict1 = history1.history\n",
    "history_dict1.keys()"
   ]
  },
  {
   "cell_type": "markdown",
   "metadata": {
    "id": "J-a0wnYKWVM4"
   },
   "source": [
    "Building model using three hidden layer with 16 hidden units and relu activation function"
   ]
  },
  {
   "cell_type": "code",
   "execution_count": 23,
   "metadata": {
    "id": "43m88UANWZiy"
   },
   "outputs": [],
   "source": [
    "model2 = models.Sequential()\n",
    "model2.add(layers.Dense(16,  activation='relu', input_shape=(10000,)))\n",
    "model2.add(layers.Dense(16, activation='relu'))\n",
    "model2.add(layers.Dense(16, activation='relu'))\n",
    "model2.add(layers.Dense(1, activation='sigmoid'))"
   ]
  },
  {
   "cell_type": "code",
   "execution_count": 24,
   "metadata": {
    "colab": {
     "base_uri": "https://localhost:8080/"
    },
    "id": "PhqTDawRWfHY",
    "outputId": "fbd55a1a-b653-4dec-c208-c311b57466b2"
   },
   "outputs": [
    {
     "name": "stdout",
     "output_type": "stream",
     "text": [
      "Epoch 1/20\n",
      "30/30 [==============================] - 5s 90ms/step - loss: 0.6007 - acc: 0.6793 - val_loss: 0.5161 - val_acc: 0.8422\n",
      "Epoch 2/20\n",
      "30/30 [==============================] - 1s 33ms/step - loss: 0.4222 - acc: 0.8741 - val_loss: 0.3674 - val_acc: 0.8745\n",
      "Epoch 3/20\n",
      "30/30 [==============================] - 1s 33ms/step - loss: 0.2862 - acc: 0.9131 - val_loss: 0.3036 - val_acc: 0.8844\n",
      "Epoch 4/20\n",
      "30/30 [==============================] - 1s 34ms/step - loss: 0.2149 - acc: 0.9313 - val_loss: 0.2848 - val_acc: 0.8856\n",
      "Epoch 5/20\n",
      "30/30 [==============================] - 1s 27ms/step - loss: 0.1732 - acc: 0.9437 - val_loss: 0.2868 - val_acc: 0.8861\n",
      "Epoch 6/20\n",
      "30/30 [==============================] - 1s 33ms/step - loss: 0.1413 - acc: 0.9561 - val_loss: 0.2957 - val_acc: 0.8833\n",
      "Epoch 7/20\n",
      "30/30 [==============================] - 1s 36ms/step - loss: 0.1174 - acc: 0.9637 - val_loss: 0.3015 - val_acc: 0.8845\n",
      "Epoch 8/20\n",
      "30/30 [==============================] - 1s 39ms/step - loss: 0.0997 - acc: 0.9701 - val_loss: 0.3317 - val_acc: 0.8824\n",
      "Epoch 9/20\n",
      "30/30 [==============================] - 1s 38ms/step - loss: 0.0803 - acc: 0.9782 - val_loss: 0.3474 - val_acc: 0.8779\n",
      "Epoch 10/20\n",
      "30/30 [==============================] - 1s 30ms/step - loss: 0.0693 - acc: 0.9811 - val_loss: 0.3713 - val_acc: 0.8768\n",
      "Epoch 11/20\n",
      "30/30 [==============================] - 1s 34ms/step - loss: 0.0515 - acc: 0.9885 - val_loss: 0.4002 - val_acc: 0.8738\n",
      "Epoch 12/20\n",
      "30/30 [==============================] - 1s 39ms/step - loss: 0.0422 - acc: 0.9909 - val_loss: 0.4138 - val_acc: 0.8766\n",
      "Epoch 13/20\n",
      "30/30 [==============================] - 1s 36ms/step - loss: 0.0422 - acc: 0.9902 - val_loss: 0.4436 - val_acc: 0.8752\n",
      "Epoch 14/20\n",
      "30/30 [==============================] - 1s 33ms/step - loss: 0.0251 - acc: 0.9961 - val_loss: 0.4682 - val_acc: 0.8744\n",
      "Epoch 15/20\n",
      "30/30 [==============================] - 1s 40ms/step - loss: 0.0264 - acc: 0.9937 - val_loss: 0.4847 - val_acc: 0.8716\n",
      "Epoch 16/20\n",
      "30/30 [==============================] - 1s 39ms/step - loss: 0.0133 - acc: 0.9987 - val_loss: 0.5471 - val_acc: 0.8671\n",
      "Epoch 17/20\n",
      "30/30 [==============================] - 1s 34ms/step - loss: 0.0161 - acc: 0.9969 - val_loss: 0.5510 - val_acc: 0.8699\n",
      "Epoch 18/20\n",
      "30/30 [==============================] - 1s 46ms/step - loss: 0.0174 - acc: 0.9951 - val_loss: 0.5675 - val_acc: 0.8698\n",
      "Epoch 19/20\n",
      "30/30 [==============================] - 1s 32ms/step - loss: 0.0059 - acc: 0.9995 - val_loss: 0.5960 - val_acc: 0.8713\n",
      "Epoch 20/20\n",
      "30/30 [==============================] - 1s 40ms/step - loss: 0.0186 - acc: 0.9938 - val_loss: 0.6110 - val_acc: 0.8703\n",
      "782/782 [==============================] - 5s 6ms/step - loss: 0.6635 - acc: 0.8611\n",
      "____________________________________________________________________________________________________\n",
      "Test Loss & Accuracy\n",
      "results2  [0.6634741425514221, 0.8610799908638]\n"
     ]
    },
    {
     "data": {
      "text/plain": [
       "dict_keys(['loss', 'acc', 'val_loss', 'val_acc'])"
      ]
     },
     "execution_count": 24,
     "metadata": {},
     "output_type": "execute_result"
    }
   ],
   "source": [
    "model2.compile(optimizer='rmsprop', loss='binary_crossentropy', metrics=['acc'])\n",
    "\n",
    "history2 = model2.fit(partial_x_training, partial_y_training, epochs=20, batch_size=512, validation_data=(x_value, y_value))\n",
    "\n",
    "results2 = model2.evaluate(x_testing, y_testing)\n",
    "print(\"_\"*100)\n",
    "print(\"Test Loss & Accuracy\")\n",
    "print(\"results2 \", results2)\n",
    "history_dict2 = history2.history\n",
    "history_dict2.keys()"
   ]
  },
  {
   "cell_type": "markdown",
   "metadata": {
    "id": "4Yr_ulq-Wk-t"
   },
   "source": [
    "Now lets try with 32 hidden units instead of 16 and one hidden layer"
   ]
  },
  {
   "cell_type": "code",
   "execution_count": 25,
   "metadata": {
    "id": "v0A4E0APWovG"
   },
   "outputs": [],
   "source": [
    "model3 = models.Sequential()\n",
    "model3.add(layers.Dense(32,  activation='relu', input_shape=(10000,)))\n",
    "model3.add(layers.Dense(1, activation='sigmoid'))"
   ]
  },
  {
   "cell_type": "code",
   "execution_count": 26,
   "metadata": {
    "colab": {
     "base_uri": "https://localhost:8080/"
    },
    "id": "Fn78M8HtWrBV",
    "outputId": "d6c59b7c-c18f-4263-aba3-3dfa52353d7d"
   },
   "outputs": [
    {
     "name": "stdout",
     "output_type": "stream",
     "text": [
      "Epoch 1/20\n",
      "30/30 [==============================] - 5s 100ms/step - loss: 0.4986 - acc: 0.7799 - val_loss: 0.3772 - val_acc: 0.8715\n",
      "Epoch 2/20\n",
      "30/30 [==============================] - 1s 36ms/step - loss: 0.3173 - acc: 0.8963 - val_loss: 0.3121 - val_acc: 0.8843\n",
      "Epoch 3/20\n",
      "30/30 [==============================] - 1s 35ms/step - loss: 0.2500 - acc: 0.9184 - val_loss: 0.2917 - val_acc: 0.8873\n",
      "Epoch 4/20\n",
      "30/30 [==============================] - 1s 31ms/step - loss: 0.2158 - acc: 0.9268 - val_loss: 0.2813 - val_acc: 0.8880\n",
      "Epoch 5/20\n",
      "30/30 [==============================] - 1s 41ms/step - loss: 0.1835 - acc: 0.9415 - val_loss: 0.3039 - val_acc: 0.8750\n",
      "Epoch 6/20\n",
      "30/30 [==============================] - 1s 33ms/step - loss: 0.1663 - acc: 0.9482 - val_loss: 0.2930 - val_acc: 0.8804\n",
      "Epoch 7/20\n",
      "30/30 [==============================] - 1s 34ms/step - loss: 0.1486 - acc: 0.9534 - val_loss: 0.3168 - val_acc: 0.8753\n",
      "Epoch 8/20\n",
      "30/30 [==============================] - 1s 37ms/step - loss: 0.1340 - acc: 0.9585 - val_loss: 0.2951 - val_acc: 0.8809\n",
      "Epoch 9/20\n",
      "30/30 [==============================] - 2s 58ms/step - loss: 0.1229 - acc: 0.9637 - val_loss: 0.2910 - val_acc: 0.8861\n",
      "Epoch 10/20\n",
      "30/30 [==============================] - 1s 40ms/step - loss: 0.1123 - acc: 0.9668 - val_loss: 0.3005 - val_acc: 0.8820\n",
      "Epoch 11/20\n",
      "30/30 [==============================] - 2s 67ms/step - loss: 0.1012 - acc: 0.9727 - val_loss: 0.3120 - val_acc: 0.8787\n",
      "Epoch 12/20\n",
      "30/30 [==============================] - 1s 43ms/step - loss: 0.0948 - acc: 0.9739 - val_loss: 0.3240 - val_acc: 0.8770\n",
      "Epoch 13/20\n",
      "30/30 [==============================] - 1s 35ms/step - loss: 0.0877 - acc: 0.9755 - val_loss: 0.3246 - val_acc: 0.8819\n",
      "Epoch 14/20\n",
      "30/30 [==============================] - 1s 48ms/step - loss: 0.0775 - acc: 0.9815 - val_loss: 0.3421 - val_acc: 0.8752\n",
      "Epoch 15/20\n",
      "30/30 [==============================] - 1s 45ms/step - loss: 0.0736 - acc: 0.9816 - val_loss: 0.3447 - val_acc: 0.8775\n",
      "Epoch 16/20\n",
      "30/30 [==============================] - 1s 48ms/step - loss: 0.0662 - acc: 0.9847 - val_loss: 0.3576 - val_acc: 0.8759\n",
      "Epoch 17/20\n",
      "30/30 [==============================] - 1s 42ms/step - loss: 0.0639 - acc: 0.9850 - val_loss: 0.3666 - val_acc: 0.8774\n",
      "Epoch 18/20\n",
      "30/30 [==============================] - 1s 39ms/step - loss: 0.0590 - acc: 0.9875 - val_loss: 0.3771 - val_acc: 0.8738\n",
      "Epoch 19/20\n",
      "30/30 [==============================] - 1s 49ms/step - loss: 0.0519 - acc: 0.9903 - val_loss: 0.3836 - val_acc: 0.8758\n",
      "Epoch 20/20\n",
      "30/30 [==============================] - 1s 41ms/step - loss: 0.0486 - acc: 0.9912 - val_loss: 0.4020 - val_acc: 0.8746\n",
      "782/782 [==============================] - 5s 7ms/step - loss: 0.4238 - acc: 0.8649\n",
      "____________________________________________________________________________________________________\n",
      "Test Loss & Accuracy\n",
      "results3  [0.42376354336738586, 0.8649200201034546]\n"
     ]
    },
    {
     "data": {
      "text/plain": [
       "dict_keys(['loss', 'acc', 'val_loss', 'val_acc'])"
      ]
     },
     "execution_count": 26,
     "metadata": {},
     "output_type": "execute_result"
    }
   ],
   "source": [
    "model3.compile(optimizer='rmsprop', loss='binary_crossentropy', metrics=['acc'])\n",
    "\n",
    "history3 = model3.fit(partial_x_training, partial_y_training, epochs=20, batch_size=512, validation_data=(x_value, y_value))\n",
    "\n",
    "results3 = model3.evaluate(x_testing, y_testing)\n",
    "print(\"_\"*100)\n",
    "print(\"Test Loss & Accuracy\")\n",
    "print(\"results3 \", results3)\n",
    "history_dict3 = history3.history\n",
    "history_dict3.keys()"
   ]
  },
  {
   "cell_type": "markdown",
   "metadata": {
    "id": "l7oBQ27rWxn1"
   },
   "source": [
    "Now lets try with 64 units and one hidden layer\n"
   ]
  },
  {
   "cell_type": "code",
   "execution_count": 27,
   "metadata": {
    "id": "kSqTOYaaWtIN"
   },
   "outputs": [],
   "source": [
    "model4 = models.Sequential()\n",
    "model4.add(layers.Dense(64,  activation='relu', input_shape=(10000,)))\n",
    "model4.add(layers.Dense(1, activation='sigmoid'))"
   ]
  },
  {
   "cell_type": "code",
   "execution_count": 28,
   "metadata": {
    "colab": {
     "base_uri": "https://localhost:8080/"
    },
    "id": "Kd_aPiA-W5s1",
    "outputId": "c287b0e8-e7c4-468e-cf20-13de8a111112"
   },
   "outputs": [
    {
     "name": "stdout",
     "output_type": "stream",
     "text": [
      "Epoch 1/20\n",
      "30/30 [==============================] - 5s 118ms/step - loss: 0.5071 - acc: 0.7695 - val_loss: 0.3704 - val_acc: 0.8705\n",
      "Epoch 2/20\n",
      "30/30 [==============================] - 2s 64ms/step - loss: 0.3140 - acc: 0.8947 - val_loss: 0.3070 - val_acc: 0.8841\n",
      "Epoch 3/20\n",
      "30/30 [==============================] - 2s 55ms/step - loss: 0.2497 - acc: 0.9136 - val_loss: 0.3068 - val_acc: 0.8735\n",
      "Epoch 4/20\n",
      "30/30 [==============================] - 2s 53ms/step - loss: 0.2121 - acc: 0.9247 - val_loss: 0.2785 - val_acc: 0.8867\n",
      "Epoch 5/20\n",
      "30/30 [==============================] - 2s 68ms/step - loss: 0.1837 - acc: 0.9393 - val_loss: 0.3114 - val_acc: 0.8739\n",
      "Epoch 6/20\n",
      "30/30 [==============================] - 2s 62ms/step - loss: 0.1641 - acc: 0.9439 - val_loss: 0.2910 - val_acc: 0.8834\n",
      "Epoch 7/20\n",
      "30/30 [==============================] - 2s 61ms/step - loss: 0.1468 - acc: 0.9507 - val_loss: 0.3208 - val_acc: 0.8745\n",
      "Epoch 8/20\n",
      "30/30 [==============================] - 2s 70ms/step - loss: 0.1329 - acc: 0.9563 - val_loss: 0.2929 - val_acc: 0.8845\n",
      "Epoch 9/20\n",
      "30/30 [==============================] - 1s 48ms/step - loss: 0.1214 - acc: 0.9617 - val_loss: 0.3114 - val_acc: 0.8816\n",
      "Epoch 10/20\n",
      "30/30 [==============================] - 2s 65ms/step - loss: 0.1122 - acc: 0.9653 - val_loss: 0.3109 - val_acc: 0.8842\n",
      "Epoch 11/20\n",
      "30/30 [==============================] - 2s 56ms/step - loss: 0.1014 - acc: 0.9687 - val_loss: 0.3153 - val_acc: 0.8825\n",
      "Epoch 12/20\n",
      "30/30 [==============================] - 3s 86ms/step - loss: 0.0909 - acc: 0.9731 - val_loss: 0.3244 - val_acc: 0.8795\n",
      "Epoch 13/20\n",
      "30/30 [==============================] - 2s 74ms/step - loss: 0.0838 - acc: 0.9759 - val_loss: 0.3542 - val_acc: 0.8710\n",
      "Epoch 14/20\n",
      "30/30 [==============================] - 2s 80ms/step - loss: 0.0768 - acc: 0.9794 - val_loss: 0.4161 - val_acc: 0.8569\n",
      "Epoch 15/20\n",
      "30/30 [==============================] - 2s 66ms/step - loss: 0.0684 - acc: 0.9834 - val_loss: 0.3526 - val_acc: 0.8779\n",
      "Epoch 16/20\n",
      "30/30 [==============================] - 2s 68ms/step - loss: 0.0627 - acc: 0.9852 - val_loss: 0.3627 - val_acc: 0.8770\n",
      "Epoch 17/20\n",
      "30/30 [==============================] - 2s 70ms/step - loss: 0.0548 - acc: 0.9883 - val_loss: 0.3784 - val_acc: 0.8737\n",
      "Epoch 18/20\n",
      "30/30 [==============================] - 2s 80ms/step - loss: 0.0555 - acc: 0.9873 - val_loss: 0.3878 - val_acc: 0.8756\n",
      "Epoch 19/20\n",
      "30/30 [==============================] - 2s 54ms/step - loss: 0.0459 - acc: 0.9916 - val_loss: 0.4086 - val_acc: 0.8693\n",
      "Epoch 20/20\n",
      "30/30 [==============================] - 1s 51ms/step - loss: 0.0434 - acc: 0.9925 - val_loss: 0.4210 - val_acc: 0.8681\n",
      "782/782 [==============================] - 6s 8ms/step - loss: 0.4531 - acc: 0.8576\n",
      "____________________________________________________________________________________________________\n",
      "Test Loss & Accuracy\n",
      "results4  [0.45313841104507446, 0.8575599789619446]\n"
     ]
    },
    {
     "data": {
      "text/plain": [
       "dict_keys(['loss', 'acc', 'val_loss', 'val_acc'])"
      ]
     },
     "execution_count": 28,
     "metadata": {},
     "output_type": "execute_result"
    }
   ],
   "source": [
    "model4.compile(optimizer='rmsprop', loss='binary_crossentropy', metrics=['acc'])\n",
    "\n",
    "history4 = model4.fit(partial_x_training, partial_y_training, epochs=20, batch_size=512, validation_data=(x_value, y_value))\n",
    "\n",
    "results4 = model4.evaluate(x_testing, y_testing)\n",
    "print(\"_\"*100)\n",
    "print(\"Test Loss & Accuracy\")\n",
    "print(\"results4 \", results4)\n",
    "history_dict4 = history4.history\n",
    "history_dict4.keys()"
   ]
  },
  {
   "cell_type": "markdown",
   "metadata": {
    "id": "VwbNO1n7W-f7"
   },
   "source": [
    "Now lets replace binary_crossentropy loss function with mse"
   ]
  },
  {
   "cell_type": "code",
   "execution_count": 29,
   "metadata": {
    "id": "UJs2D7c0W6pz"
   },
   "outputs": [],
   "source": [
    "model5 = models.Sequential()\n",
    "model5.add(layers.Dense(16,  activation='relu', input_shape=(10000,)))\n",
    "model5.add(layers.Dense(1, activation='sigmoid'))"
   ]
  },
  {
   "cell_type": "code",
   "execution_count": 30,
   "metadata": {
    "colab": {
     "base_uri": "https://localhost:8080/"
    },
    "id": "d5e6CeWuXCQn",
    "outputId": "2664a6c8-044a-49f2-ebb9-26fb575ccc19"
   },
   "outputs": [
    {
     "name": "stdout",
     "output_type": "stream",
     "text": [
      "Epoch 1/20\n",
      "30/30 [==============================] - 4s 106ms/step - loss: 0.1806 - acc: 0.7742 - val_loss: 0.1361 - val_acc: 0.8525\n",
      "Epoch 2/20\n",
      "30/30 [==============================] - 1s 48ms/step - loss: 0.1124 - acc: 0.8821 - val_loss: 0.1072 - val_acc: 0.8775\n",
      "Epoch 3/20\n",
      "30/30 [==============================] - 1s 39ms/step - loss: 0.0874 - acc: 0.9073 - val_loss: 0.1008 - val_acc: 0.8756\n",
      "Epoch 4/20\n",
      "30/30 [==============================] - 1s 38ms/step - loss: 0.0746 - acc: 0.9188 - val_loss: 0.0910 - val_acc: 0.8857\n",
      "Epoch 5/20\n",
      "30/30 [==============================] - 1s 35ms/step - loss: 0.0659 - acc: 0.9285 - val_loss: 0.0892 - val_acc: 0.8833\n",
      "Epoch 6/20\n",
      "30/30 [==============================] - 1s 38ms/step - loss: 0.0594 - acc: 0.9370 - val_loss: 0.0869 - val_acc: 0.8865\n",
      "Epoch 7/20\n",
      "30/30 [==============================] - 1s 41ms/step - loss: 0.0540 - acc: 0.9453 - val_loss: 0.0851 - val_acc: 0.8863\n",
      "Epoch 8/20\n",
      "30/30 [==============================] - 2s 61ms/step - loss: 0.0499 - acc: 0.9492 - val_loss: 0.0840 - val_acc: 0.8869\n",
      "Epoch 9/20\n",
      "30/30 [==============================] - 1s 39ms/step - loss: 0.0464 - acc: 0.9529 - val_loss: 0.0855 - val_acc: 0.8820\n",
      "Epoch 10/20\n",
      "30/30 [==============================] - 2s 62ms/step - loss: 0.0431 - acc: 0.9585 - val_loss: 0.0888 - val_acc: 0.8803\n",
      "Epoch 11/20\n",
      "30/30 [==============================] - 1s 41ms/step - loss: 0.0404 - acc: 0.9617 - val_loss: 0.0847 - val_acc: 0.8846\n",
      "Epoch 12/20\n",
      "30/30 [==============================] - 1s 49ms/step - loss: 0.0378 - acc: 0.9651 - val_loss: 0.0842 - val_acc: 0.8845\n",
      "Epoch 13/20\n",
      "30/30 [==============================] - 1s 41ms/step - loss: 0.0358 - acc: 0.9675 - val_loss: 0.0964 - val_acc: 0.8680\n",
      "Epoch 14/20\n",
      "30/30 [==============================] - 1s 41ms/step - loss: 0.0336 - acc: 0.9698 - val_loss: 0.0856 - val_acc: 0.8801\n",
      "Epoch 15/20\n",
      "30/30 [==============================] - 1s 38ms/step - loss: 0.0315 - acc: 0.9733 - val_loss: 0.0864 - val_acc: 0.8798\n",
      "Epoch 16/20\n",
      "30/30 [==============================] - 1s 51ms/step - loss: 0.0298 - acc: 0.9759 - val_loss: 0.0866 - val_acc: 0.8787\n",
      "Epoch 17/20\n",
      "30/30 [==============================] - 2s 57ms/step - loss: 0.0283 - acc: 0.9779 - val_loss: 0.0870 - val_acc: 0.8785\n",
      "Epoch 18/20\n",
      "30/30 [==============================] - 1s 37ms/step - loss: 0.0268 - acc: 0.9791 - val_loss: 0.0872 - val_acc: 0.8784\n",
      "Epoch 19/20\n",
      "30/30 [==============================] - 1s 50ms/step - loss: 0.0250 - acc: 0.9809 - val_loss: 0.0885 - val_acc: 0.8774\n",
      "Epoch 20/20\n",
      "30/30 [==============================] - 1s 31ms/step - loss: 0.0237 - acc: 0.9825 - val_loss: 0.0917 - val_acc: 0.8774\n",
      "782/782 [==============================] - 4s 6ms/step - loss: 0.0972 - acc: 0.8685\n",
      "____________________________________________________________________________________________________\n",
      "Test Loss & Accuracy\n",
      "results5  [0.09718360006809235, 0.8684800267219543]\n"
     ]
    },
    {
     "data": {
      "text/plain": [
       "dict_keys(['loss', 'acc', 'val_loss', 'val_acc'])"
      ]
     },
     "execution_count": 30,
     "metadata": {},
     "output_type": "execute_result"
    }
   ],
   "source": [
    "model5.compile(optimizer='rmsprop', loss='mse', metrics=['acc'])\n",
    "\n",
    "history5 = model5.fit(partial_x_training, partial_y_training, epochs=20, batch_size=512, validation_data=(x_value, y_value))\n",
    "\n",
    "results5 = model5.evaluate(x_testing, y_testing)\n",
    "print(\"_\"*100)\n",
    "print(\"Test Loss & Accuracy\")\n",
    "print(\"results5 \", results5)\n",
    "history_dict5 = history5.history\n",
    "history_dict5.keys()"
   ]
  },
  {
   "cell_type": "markdown",
   "metadata": {
    "id": "YcuIdo4VXOUZ"
   },
   "source": [
    "Using tanh function instead of relu"
   ]
  },
  {
   "cell_type": "code",
   "execution_count": 31,
   "metadata": {
    "id": "WgPQpQqEXGYh"
   },
   "outputs": [],
   "source": [
    "model6 = models.Sequential()\n",
    "model6.add(layers.Dense(16,  activation='tanh', input_shape=(10000,)))\n",
    "model6.add(layers.Dense(1, activation='sigmoid'))"
   ]
  },
  {
   "cell_type": "code",
   "execution_count": 32,
   "metadata": {
    "colab": {
     "base_uri": "https://localhost:8080/"
    },
    "id": "uG-kZoBgXWcr",
    "outputId": "4a100246-b0fc-4f51-b6b7-79cc50947d2e"
   },
   "outputs": [
    {
     "name": "stdout",
     "output_type": "stream",
     "text": [
      "Epoch 1/20\n",
      "30/30 [==============================] - 10s 279ms/step - loss: 0.5131 - acc: 0.7965 - val_loss: 0.4189 - val_acc: 0.8534\n",
      "Epoch 2/20\n",
      "30/30 [==============================] - 1s 33ms/step - loss: 0.3468 - acc: 0.8933 - val_loss: 0.3418 - val_acc: 0.8770\n",
      "Epoch 3/20\n",
      "30/30 [==============================] - 1s 30ms/step - loss: 0.2758 - acc: 0.9151 - val_loss: 0.3025 - val_acc: 0.8864\n",
      "Epoch 4/20\n",
      "30/30 [==============================] - 1s 33ms/step - loss: 0.2327 - acc: 0.9276 - val_loss: 0.2940 - val_acc: 0.8822\n",
      "Epoch 5/20\n",
      "30/30 [==============================] - 1s 33ms/step - loss: 0.2020 - acc: 0.9365 - val_loss: 0.2814 - val_acc: 0.8863\n",
      "Epoch 6/20\n",
      "30/30 [==============================] - 1s 34ms/step - loss: 0.1778 - acc: 0.9451 - val_loss: 0.2722 - val_acc: 0.8875\n",
      "Epoch 7/20\n",
      "30/30 [==============================] - 1s 33ms/step - loss: 0.1592 - acc: 0.9501 - val_loss: 0.2734 - val_acc: 0.8858\n",
      "Epoch 8/20\n",
      "30/30 [==============================] - 1s 29ms/step - loss: 0.1424 - acc: 0.9587 - val_loss: 0.2759 - val_acc: 0.8857\n",
      "Epoch 9/20\n",
      "30/30 [==============================] - 1s 36ms/step - loss: 0.1278 - acc: 0.9634 - val_loss: 0.2835 - val_acc: 0.8853\n",
      "Epoch 10/20\n",
      "30/30 [==============================] - 1s 29ms/step - loss: 0.1162 - acc: 0.9667 - val_loss: 0.2888 - val_acc: 0.8851\n",
      "Epoch 11/20\n",
      "30/30 [==============================] - 1s 36ms/step - loss: 0.1052 - acc: 0.9705 - val_loss: 0.2953 - val_acc: 0.8842\n",
      "Epoch 12/20\n",
      "30/30 [==============================] - 1s 33ms/step - loss: 0.0953 - acc: 0.9743 - val_loss: 0.3071 - val_acc: 0.8806\n",
      "Epoch 13/20\n",
      "30/30 [==============================] - 1s 29ms/step - loss: 0.0856 - acc: 0.9776 - val_loss: 0.3153 - val_acc: 0.8807\n",
      "Epoch 14/20\n",
      "30/30 [==============================] - 1s 31ms/step - loss: 0.0777 - acc: 0.9814 - val_loss: 0.3262 - val_acc: 0.8800\n",
      "Epoch 15/20\n",
      "30/30 [==============================] - 1s 31ms/step - loss: 0.0701 - acc: 0.9839 - val_loss: 0.3397 - val_acc: 0.8803\n",
      "Epoch 16/20\n",
      "30/30 [==============================] - 1s 41ms/step - loss: 0.0639 - acc: 0.9862 - val_loss: 0.3498 - val_acc: 0.8773\n",
      "Epoch 17/20\n",
      "30/30 [==============================] - 1s 35ms/step - loss: 0.0577 - acc: 0.9875 - val_loss: 0.3642 - val_acc: 0.8780\n",
      "Epoch 18/20\n",
      "30/30 [==============================] - 1s 33ms/step - loss: 0.0510 - acc: 0.9898 - val_loss: 0.3858 - val_acc: 0.8713\n",
      "Epoch 19/20\n",
      "30/30 [==============================] - 1s 49ms/step - loss: 0.0468 - acc: 0.9912 - val_loss: 0.3908 - val_acc: 0.8739\n",
      "Epoch 20/20\n",
      "30/30 [==============================] - 2s 62ms/step - loss: 0.0421 - acc: 0.9929 - val_loss: 0.4062 - val_acc: 0.8720\n",
      "782/782 [==============================] - 5s 6ms/step - loss: 0.4379 - acc: 0.8616\n",
      "____________________________________________________________________________________________________\n",
      "Test Loss & Accuracy\n",
      "results6  [0.4378528594970703, 0.8616399765014648]\n"
     ]
    },
    {
     "data": {
      "text/plain": [
       "dict_keys(['loss', 'acc', 'val_loss', 'val_acc'])"
      ]
     },
     "execution_count": 32,
     "metadata": {},
     "output_type": "execute_result"
    }
   ],
   "source": [
    "model6.compile(optimizer='rmsprop', loss='binary_crossentropy', metrics=['acc'])\n",
    "\n",
    "history6 = model6.fit(partial_x_training, partial_y_training, epochs=20, batch_size=512, validation_data=(x_value, y_value))\n",
    "\n",
    "results6= model6.evaluate(x_testing, y_testing)\n",
    "print(\"_\"*100)\n",
    "print(\"Test Loss & Accuracy\")\n",
    "print(\"results6 \", results6)\n",
    "history_dict6 = history6.history\n",
    "history_dict6.keys()"
   ]
  },
  {
   "cell_type": "markdown",
   "metadata": {
    "id": "m4zh2x1mXb3R"
   },
   "source": [
    "Using drop out for three hidden layers with 64 units, MSE loss function and RELU"
   ]
  },
  {
   "cell_type": "code",
   "execution_count": 33,
   "metadata": {
    "id": "p9RM5wGKXbCm"
   },
   "outputs": [],
   "source": [
    "model7 = models.Sequential()\n",
    "model7.add(layers.Dense(16,  activation='relu', input_shape=(10000,)))\n",
    "model.add(layers.Dropout(0.5))\n",
    "model7.add(layers.Dense(16, activation='relu'))\n",
    "model.add(layers.Dropout(0.5))\n",
    "model7.add(layers.Dense(16, activation='relu'))\n",
    "model.add(layers.Dropout(0.5))\n",
    "model7.add(layers.Dense(1, activation='sigmoid'))"
   ]
  },
  {
   "cell_type": "code",
   "execution_count": 34,
   "metadata": {
    "colab": {
     "base_uri": "https://localhost:8080/"
    },
    "id": "cGTIvVJFXpZ6",
    "outputId": "90c76ead-c2a5-4273-ece0-777da4b5d631"
   },
   "outputs": [
    {
     "name": "stdout",
     "output_type": "stream",
     "text": [
      "Epoch 1/20\n",
      "30/30 [==============================] - 4s 95ms/step - loss: 0.1983 - acc: 0.7220 - val_loss: 0.1420 - val_acc: 0.8478\n",
      "Epoch 2/20\n",
      "30/30 [==============================] - 1s 37ms/step - loss: 0.1121 - acc: 0.8787 - val_loss: 0.1007 - val_acc: 0.8823\n",
      "Epoch 3/20\n",
      "30/30 [==============================] - 1s 48ms/step - loss: 0.0793 - acc: 0.9107 - val_loss: 0.0921 - val_acc: 0.8806\n",
      "Epoch 4/20\n",
      "30/30 [==============================] - 1s 36ms/step - loss: 0.0623 - acc: 0.9287 - val_loss: 0.0874 - val_acc: 0.8848\n",
      "Epoch 5/20\n",
      "30/30 [==============================] - 1s 38ms/step - loss: 0.0512 - acc: 0.9435 - val_loss: 0.1012 - val_acc: 0.8628\n",
      "Epoch 6/20\n",
      "30/30 [==============================] - 1s 31ms/step - loss: 0.0446 - acc: 0.9493 - val_loss: 0.0911 - val_acc: 0.8792\n",
      "Epoch 7/20\n",
      "30/30 [==============================] - 1s 39ms/step - loss: 0.0390 - acc: 0.9575 - val_loss: 0.0857 - val_acc: 0.8815\n",
      "Epoch 8/20\n",
      "30/30 [==============================] - 1s 36ms/step - loss: 0.0330 - acc: 0.9647 - val_loss: 0.0907 - val_acc: 0.8755\n",
      "Epoch 9/20\n",
      "30/30 [==============================] - 1s 30ms/step - loss: 0.0285 - acc: 0.9711 - val_loss: 0.0878 - val_acc: 0.8795\n",
      "Epoch 10/20\n",
      "30/30 [==============================] - 1s 34ms/step - loss: 0.0277 - acc: 0.9707 - val_loss: 0.0911 - val_acc: 0.8776\n",
      "Epoch 11/20\n",
      "30/30 [==============================] - 1s 45ms/step - loss: 0.0221 - acc: 0.9795 - val_loss: 0.0940 - val_acc: 0.8737\n",
      "Epoch 12/20\n",
      "30/30 [==============================] - 1s 42ms/step - loss: 0.0191 - acc: 0.9827 - val_loss: 0.0989 - val_acc: 0.8693\n",
      "Epoch 13/20\n",
      "30/30 [==============================] - 1s 32ms/step - loss: 0.0217 - acc: 0.9763 - val_loss: 0.0948 - val_acc: 0.8763\n",
      "Epoch 14/20\n",
      "30/30 [==============================] - 1s 39ms/step - loss: 0.0168 - acc: 0.9839 - val_loss: 0.0970 - val_acc: 0.8744\n",
      "Epoch 15/20\n",
      "30/30 [==============================] - 2s 68ms/step - loss: 0.0146 - acc: 0.9863 - val_loss: 0.0982 - val_acc: 0.8749\n",
      "Epoch 16/20\n",
      "30/30 [==============================] - 1s 37ms/step - loss: 0.0151 - acc: 0.9849 - val_loss: 0.0982 - val_acc: 0.8762\n",
      "Epoch 17/20\n",
      "30/30 [==============================] - 1s 40ms/step - loss: 0.0126 - acc: 0.9889 - val_loss: 0.0990 - val_acc: 0.8748\n",
      "Epoch 18/20\n",
      "30/30 [==============================] - 1s 36ms/step - loss: 0.0119 - acc: 0.9885 - val_loss: 0.1004 - val_acc: 0.8736\n",
      "Epoch 19/20\n",
      "30/30 [==============================] - 1s 38ms/step - loss: 0.0082 - acc: 0.9933 - val_loss: 0.1139 - val_acc: 0.8600\n",
      "Epoch 20/20\n",
      "30/30 [==============================] - 1s 35ms/step - loss: 0.0116 - acc: 0.9881 - val_loss: 0.1169 - val_acc: 0.8570\n",
      "782/782 [==============================] - 5s 6ms/step - loss: 0.1280 - acc: 0.8430\n",
      "____________________________________________________________________________________________________\n",
      "Test Loss & Accuracy\n",
      "results7  [0.1279584914445877, 0.8430399894714355]\n"
     ]
    },
    {
     "data": {
      "text/plain": [
       "dict_keys(['loss', 'acc', 'val_loss', 'val_acc'])"
      ]
     },
     "execution_count": 34,
     "metadata": {},
     "output_type": "execute_result"
    }
   ],
   "source": [
    "model7.compile(optimizer='rmsprop', loss='mse', metrics=['acc'])\n",
    "\n",
    "history7 = model7.fit(partial_x_training, partial_y_training, epochs=20, batch_size=512, validation_data=(x_value, y_value))\n",
    "\n",
    "results7= model7.evaluate(x_testing, y_testing)\n",
    "print(\"_\"*100)\n",
    "print(\"Test Loss & Accuracy\")\n",
    "print(\"results7 \", results7)\n",
    "history_dict7 = history7.history\n",
    "history_dict7.keys()"
   ]
  },
  {
   "cell_type": "markdown",
   "metadata": {
    "id": "IRMywrFZXtMW"
   },
   "source": [
    "one layer with drop out of 0.5"
   ]
  },
  {
   "cell_type": "code",
   "execution_count": 35,
   "metadata": {
    "id": "mFTzqRcpXwtz"
   },
   "outputs": [],
   "source": [
    "model8 = models.Sequential()\n",
    "model8.add(layers.Dense(16,  activation='relu', input_shape=(10000,)))\n",
    "model8.add(layers.Dropout(0.5))\n",
    "model8.add(layers.Dense(1, activation='sigmoid'))"
   ]
  },
  {
   "cell_type": "code",
   "execution_count": 36,
   "metadata": {
    "colab": {
     "base_uri": "https://localhost:8080/"
    },
    "id": "Z9WB79PCX1l1",
    "outputId": "2b54bd13-e5d8-42c6-a98e-a8d2782275bc"
   },
   "outputs": [
    {
     "name": "stdout",
     "output_type": "stream",
     "text": [
      "Epoch 1/20\n",
      "30/30 [==============================] - 4s 98ms/step - loss: 0.5458 - acc: 0.7395 - val_loss: 0.4278 - val_acc: 0.8591\n",
      "Epoch 2/20\n",
      "30/30 [==============================] - 1s 40ms/step - loss: 0.3958 - acc: 0.8498 - val_loss: 0.3559 - val_acc: 0.8739\n",
      "Epoch 3/20\n",
      "30/30 [==============================] - 1s 45ms/step - loss: 0.3278 - acc: 0.8869 - val_loss: 0.3488 - val_acc: 0.8600\n",
      "Epoch 4/20\n",
      "30/30 [==============================] - 1s 32ms/step - loss: 0.2888 - acc: 0.9001 - val_loss: 0.2978 - val_acc: 0.8878\n",
      "Epoch 5/20\n",
      "30/30 [==============================] - 1s 48ms/step - loss: 0.2560 - acc: 0.9155 - val_loss: 0.2848 - val_acc: 0.8875\n",
      "Epoch 6/20\n",
      "30/30 [==============================] - 2s 55ms/step - loss: 0.2299 - acc: 0.9218 - val_loss: 0.2894 - val_acc: 0.8859\n",
      "Epoch 7/20\n",
      "30/30 [==============================] - 2s 57ms/step - loss: 0.2135 - acc: 0.9284 - val_loss: 0.2725 - val_acc: 0.8879\n",
      "Epoch 8/20\n",
      "30/30 [==============================] - 2s 62ms/step - loss: 0.1922 - acc: 0.9337 - val_loss: 0.2708 - val_acc: 0.8887\n",
      "Epoch 9/20\n",
      "30/30 [==============================] - 1s 34ms/step - loss: 0.1809 - acc: 0.9413 - val_loss: 0.2711 - val_acc: 0.8880\n",
      "Epoch 10/20\n",
      "30/30 [==============================] - 1s 34ms/step - loss: 0.1665 - acc: 0.9458 - val_loss: 0.2756 - val_acc: 0.8872\n",
      "Epoch 11/20\n",
      "30/30 [==============================] - 1s 47ms/step - loss: 0.1533 - acc: 0.9503 - val_loss: 0.2821 - val_acc: 0.8862\n",
      "Epoch 12/20\n",
      "30/30 [==============================] - 1s 41ms/step - loss: 0.1443 - acc: 0.9567 - val_loss: 0.2843 - val_acc: 0.8861\n",
      "Epoch 13/20\n",
      "30/30 [==============================] - 1s 49ms/step - loss: 0.1359 - acc: 0.9589 - val_loss: 0.2858 - val_acc: 0.8865\n",
      "Epoch 14/20\n",
      "30/30 [==============================] - 1s 36ms/step - loss: 0.1276 - acc: 0.9628 - val_loss: 0.2932 - val_acc: 0.8871\n",
      "Epoch 15/20\n",
      "30/30 [==============================] - 1s 32ms/step - loss: 0.1186 - acc: 0.9659 - val_loss: 0.2976 - val_acc: 0.8864\n",
      "Epoch 16/20\n",
      "30/30 [==============================] - 1s 35ms/step - loss: 0.1112 - acc: 0.9670 - val_loss: 0.3093 - val_acc: 0.8870\n",
      "Epoch 17/20\n",
      "30/30 [==============================] - 1s 40ms/step - loss: 0.1024 - acc: 0.9702 - val_loss: 0.3132 - val_acc: 0.8863\n",
      "Epoch 18/20\n",
      "30/30 [==============================] - 2s 51ms/step - loss: 0.0957 - acc: 0.9723 - val_loss: 0.3229 - val_acc: 0.8847\n",
      "Epoch 19/20\n",
      "30/30 [==============================] - 1s 42ms/step - loss: 0.0912 - acc: 0.9749 - val_loss: 0.3292 - val_acc: 0.8820\n",
      "Epoch 20/20\n",
      "30/30 [==============================] - 1s 37ms/step - loss: 0.0851 - acc: 0.9765 - val_loss: 0.3452 - val_acc: 0.8799\n",
      "782/782 [==============================] - 5s 6ms/step - loss: 0.3719 - acc: 0.8724\n",
      "____________________________________________________________________________________________________\n",
      "Test Loss & Accuracy\n",
      "results8  [0.37187787890434265, 0.8723599910736084]\n"
     ]
    },
    {
     "data": {
      "text/plain": [
       "dict_keys(['loss', 'acc', 'val_loss', 'val_acc'])"
      ]
     },
     "execution_count": 36,
     "metadata": {},
     "output_type": "execute_result"
    }
   ],
   "source": [
    "model8.compile(optimizer='rmsprop', loss='binary_crossentropy', metrics=['acc'])\n",
    "\n",
    "history8 = model8.fit(partial_x_training, partial_y_training, epochs=20, batch_size=512, validation_data=(x_value, y_value))\n",
    "\n",
    "results8= model8.evaluate(x_testing, y_testing)\n",
    "print(\"_\"*100)\n",
    "print(\"Test Loss & Accuracy\")\n",
    "print(\"results8 \", results8)\n",
    "history_dict8 = history8.history\n",
    "history_dict8.keys()"
   ]
  },
  {
   "cell_type": "markdown",
   "metadata": {
    "id": "hMbCQONeYE1h"
   },
   "source": [
    "Using l1 regulariser"
   ]
  },
  {
   "cell_type": "code",
   "execution_count": 37,
   "metadata": {
    "id": "psbtE3n-X5F8"
   },
   "outputs": [],
   "source": [
    "model9 = models.Sequential()\n",
    "model9.add(layers.Dense(64,  activation='relu', activity_regularizer = regularizers.L1(0.01),input_shape=(10000,)))\n",
    "model9.add(layers.Dense(1, activation='sigmoid'))"
   ]
  },
  {
   "cell_type": "code",
   "execution_count": 38,
   "metadata": {
    "colab": {
     "base_uri": "https://localhost:8080/"
    },
    "id": "4a1XEOw2YI5H",
    "outputId": "0ef48652-986e-438a-d5df-cbff27a906c1"
   },
   "outputs": [
    {
     "name": "stdout",
     "output_type": "stream",
     "text": [
      "Epoch 1/20\n",
      "30/30 [==============================] - 6s 167ms/step - loss: 0.5619 - acc: 0.7847 - val_loss: 0.4576 - val_acc: 0.8668\n",
      "Epoch 2/20\n",
      "30/30 [==============================] - 4s 118ms/step - loss: 0.4003 - acc: 0.8948 - val_loss: 0.3989 - val_acc: 0.8820\n",
      "Epoch 3/20\n",
      "30/30 [==============================] - 3s 101ms/step - loss: 0.3345 - acc: 0.9212 - val_loss: 0.3730 - val_acc: 0.8896\n",
      "Epoch 4/20\n",
      "30/30 [==============================] - 2s 76ms/step - loss: 0.2921 - acc: 0.9385 - val_loss: 0.3697 - val_acc: 0.8840\n",
      "Epoch 5/20\n",
      "30/30 [==============================] - 2s 71ms/step - loss: 0.2617 - acc: 0.9506 - val_loss: 0.3558 - val_acc: 0.8878\n",
      "Epoch 6/20\n",
      "30/30 [==============================] - 3s 87ms/step - loss: 0.2360 - acc: 0.9599 - val_loss: 0.3554 - val_acc: 0.8852\n",
      "Epoch 7/20\n",
      "30/30 [==============================] - 2s 51ms/step - loss: 0.2147 - acc: 0.9691 - val_loss: 0.3751 - val_acc: 0.8794\n",
      "Epoch 8/20\n",
      "30/30 [==============================] - 2s 62ms/step - loss: 0.1976 - acc: 0.9747 - val_loss: 0.3623 - val_acc: 0.8844\n",
      "Epoch 9/20\n",
      "30/30 [==============================] - 2s 66ms/step - loss: 0.1818 - acc: 0.9805 - val_loss: 0.3639 - val_acc: 0.8828\n",
      "Epoch 10/20\n",
      "30/30 [==============================] - 2s 62ms/step - loss: 0.1681 - acc: 0.9863 - val_loss: 0.3565 - val_acc: 0.8825\n",
      "Epoch 11/20\n",
      "30/30 [==============================] - 2s 65ms/step - loss: 0.1535 - acc: 0.9909 - val_loss: 0.3755 - val_acc: 0.8779\n",
      "Epoch 12/20\n",
      "30/30 [==============================] - 2s 84ms/step - loss: 0.1469 - acc: 0.9920 - val_loss: 0.3568 - val_acc: 0.8828\n",
      "Epoch 13/20\n",
      "30/30 [==============================] - 2s 74ms/step - loss: 0.1339 - acc: 0.9945 - val_loss: 0.3639 - val_acc: 0.8812\n",
      "Epoch 14/20\n",
      "30/30 [==============================] - 2s 60ms/step - loss: 0.1288 - acc: 0.9960 - val_loss: 0.3759 - val_acc: 0.8804\n",
      "Epoch 15/20\n",
      "30/30 [==============================] - 2s 83ms/step - loss: 0.1186 - acc: 0.9979 - val_loss: 0.3739 - val_acc: 0.8807\n",
      "Epoch 16/20\n",
      "30/30 [==============================] - 2s 68ms/step - loss: 0.1150 - acc: 0.9979 - val_loss: 0.3786 - val_acc: 0.8799\n",
      "Epoch 17/20\n",
      "30/30 [==============================] - 2s 71ms/step - loss: 0.1084 - acc: 0.9980 - val_loss: 0.3715 - val_acc: 0.8786\n",
      "Epoch 18/20\n",
      "30/30 [==============================] - 2s 55ms/step - loss: 0.1027 - acc: 0.9989 - val_loss: 0.3777 - val_acc: 0.8781\n",
      "Epoch 19/20\n",
      "30/30 [==============================] - 2s 50ms/step - loss: 0.0994 - acc: 0.9990 - val_loss: 0.3765 - val_acc: 0.8768\n",
      "Epoch 20/20\n",
      "30/30 [==============================] - 1s 46ms/step - loss: 0.0948 - acc: 0.9990 - val_loss: 0.3803 - val_acc: 0.8760\n",
      "782/782 [==============================] - 6s 8ms/step - loss: 0.3996 - acc: 0.8674\n",
      "____________________________________________________________________________________________________\n",
      "Test Loss & Accuracy\n",
      "results9  [0.3996341824531555, 0.8673999905586243]\n"
     ]
    },
    {
     "data": {
      "text/plain": [
       "dict_keys(['loss', 'acc', 'val_loss', 'val_acc'])"
      ]
     },
     "execution_count": 38,
     "metadata": {},
     "output_type": "execute_result"
    }
   ],
   "source": [
    "model9.compile(optimizer='rmsprop', loss='binary_crossentropy', metrics=['acc'])\n",
    "\n",
    "history9 = model9.fit(partial_x_training, partial_y_training, epochs=20, batch_size=512, validation_data=(x_value, y_value))\n",
    "\n",
    "results9= model9.evaluate(x_testing, y_testing)\n",
    "print(\"_\"*100)\n",
    "print(\"Test Loss & Accuracy\")\n",
    "print(\"results9 \", results9)\n",
    "history_dict9 = history9.history\n",
    "history_dict9.keys()"
   ]
  },
  {
   "cell_type": "markdown",
   "metadata": {
    "id": "YnGjPeXIYOSp"
   },
   "source": [
    "Using l2 regulariser"
   ]
  },
  {
   "cell_type": "code",
   "execution_count": 39,
   "metadata": {
    "id": "XDj-lS6cYQ9q"
   },
   "outputs": [],
   "source": [
    "model10 = models.Sequential()\n",
    "model10.add(layers.Dense(64,  activation='relu', activity_regularizer = regularizers.L2(0.01),input_shape=(10000,)))\n",
    "model10.add(layers.Dense(1, activation='sigmoid'))"
   ]
  },
  {
   "cell_type": "code",
   "execution_count": 40,
   "metadata": {
    "colab": {
     "base_uri": "https://localhost:8080/"
    },
    "id": "Mv-7n6j0YToE",
    "outputId": "d133cd6b-acd4-413d-bf5c-358265b1d33e"
   },
   "outputs": [
    {
     "name": "stdout",
     "output_type": "stream",
     "text": [
      "Epoch 1/20\n",
      "30/30 [==============================] - 5s 118ms/step - loss: 0.5377 - acc: 0.7691 - val_loss: 0.4094 - val_acc: 0.8734\n",
      "Epoch 2/20\n",
      "30/30 [==============================] - 2s 60ms/step - loss: 0.3574 - acc: 0.8922 - val_loss: 0.3596 - val_acc: 0.8802\n",
      "Epoch 3/20\n",
      "30/30 [==============================] - 1s 41ms/step - loss: 0.2885 - acc: 0.9223 - val_loss: 0.3315 - val_acc: 0.8888\n",
      "Epoch 4/20\n",
      "30/30 [==============================] - 1s 49ms/step - loss: 0.2544 - acc: 0.9317 - val_loss: 0.3207 - val_acc: 0.8858\n",
      "Epoch 5/20\n",
      "30/30 [==============================] - 2s 52ms/step - loss: 0.2197 - acc: 0.9491 - val_loss: 0.3287 - val_acc: 0.8790\n",
      "Epoch 6/20\n",
      "30/30 [==============================] - 2s 58ms/step - loss: 0.1940 - acc: 0.9604 - val_loss: 0.3290 - val_acc: 0.8848\n",
      "Epoch 7/20\n",
      "30/30 [==============================] - 1s 50ms/step - loss: 0.1767 - acc: 0.9639 - val_loss: 0.3220 - val_acc: 0.8808\n",
      "Epoch 8/20\n",
      "30/30 [==============================] - 2s 73ms/step - loss: 0.1576 - acc: 0.9733 - val_loss: 0.3161 - val_acc: 0.8848\n",
      "Epoch 9/20\n",
      "30/30 [==============================] - 2s 83ms/step - loss: 0.1450 - acc: 0.9773 - val_loss: 0.3226 - val_acc: 0.8827\n",
      "Epoch 10/20\n",
      "30/30 [==============================] - 3s 86ms/step - loss: 0.1268 - acc: 0.9841 - val_loss: 0.3481 - val_acc: 0.8797\n",
      "Epoch 11/20\n",
      "30/30 [==============================] - 2s 68ms/step - loss: 0.1173 - acc: 0.9879 - val_loss: 0.3749 - val_acc: 0.8705\n",
      "Epoch 12/20\n",
      "30/30 [==============================] - 2s 78ms/step - loss: 0.1097 - acc: 0.9895 - val_loss: 0.3443 - val_acc: 0.8816\n",
      "Epoch 13/20\n",
      "30/30 [==============================] - 2s 64ms/step - loss: 0.1019 - acc: 0.9911 - val_loss: 0.3389 - val_acc: 0.8713\n",
      "Epoch 14/20\n",
      "30/30 [==============================] - 2s 65ms/step - loss: 0.0906 - acc: 0.9942 - val_loss: 0.3427 - val_acc: 0.8769\n",
      "Epoch 15/20\n",
      "30/30 [==============================] - 2s 70ms/step - loss: 0.0832 - acc: 0.9964 - val_loss: 0.4076 - val_acc: 0.8545\n",
      "Epoch 16/20\n",
      "30/30 [==============================] - 2s 58ms/step - loss: 0.0821 - acc: 0.9949 - val_loss: 0.3536 - val_acc: 0.8776\n",
      "Epoch 17/20\n",
      "30/30 [==============================] - 2s 67ms/step - loss: 0.0768 - acc: 0.9942 - val_loss: 0.3571 - val_acc: 0.8783\n",
      "Epoch 18/20\n",
      "30/30 [==============================] - 2s 64ms/step - loss: 0.0711 - acc: 0.9953 - val_loss: 0.3552 - val_acc: 0.8777\n",
      "Epoch 19/20\n",
      "30/30 [==============================] - 3s 85ms/step - loss: 0.0648 - acc: 0.9971 - val_loss: 0.3622 - val_acc: 0.8754\n",
      "Epoch 20/20\n",
      "30/30 [==============================] - 3s 81ms/step - loss: 0.0651 - acc: 0.9959 - val_loss: 0.3615 - val_acc: 0.8748\n",
      "782/782 [==============================] - 6s 7ms/step - loss: 0.3803 - acc: 0.8660\n",
      "____________________________________________________________________________________________________\n",
      "Test Loss & Accuracy\n",
      "results10  [0.38029876351356506, 0.8660399913787842]\n"
     ]
    },
    {
     "data": {
      "text/plain": [
       "dict_keys(['loss', 'acc', 'val_loss', 'val_acc'])"
      ]
     },
     "execution_count": 40,
     "metadata": {},
     "output_type": "execute_result"
    }
   ],
   "source": [
    "model10.compile(optimizer='rmsprop', loss='binary_crossentropy', metrics=['acc'])\n",
    "\n",
    "history10 = model10.fit(partial_x_training, partial_y_training, epochs=20, batch_size=512, validation_data=(x_value, y_value))\n",
    "\n",
    "results10= model10.evaluate(x_testing, y_testing)\n",
    "print(\"_\"*100)\n",
    "print(\"Test Loss & Accuracy\")\n",
    "print(\"results10 \", results10)\n",
    "history_dict10 = history10.history\n",
    "history_dict10.keys()"
   ]
  },
  {
   "cell_type": "markdown",
   "metadata": {
    "id": "Ufl8iTD0YW5W"
   },
   "source": [
    "Using adam optimizer instead of rmsprop"
   ]
  },
  {
   "cell_type": "code",
   "execution_count": 41,
   "metadata": {
    "id": "mftIgFCLYWPT"
   },
   "outputs": [],
   "source": [
    "model11= models.Sequential()\n",
    "model11.add(layers.Dense(64,  activation='relu', activity_regularizer = regularizers.L1(0.01),input_shape=(10000,)))\n",
    "model11.add(layers.Dense(1, activation='sigmoid'))"
   ]
  },
  {
   "cell_type": "code",
   "execution_count": 44,
   "metadata": {
    "colab": {
     "base_uri": "https://localhost:8080/"
    },
    "id": "mxZcwCg4YdI5",
    "outputId": "4b5a05a3-eae8-41ec-e7a7-bef407882d75",
    "scrolled": true
   },
   "outputs": [
    {
     "name": "stdout",
     "output_type": "stream",
     "text": [
      "Epoch 1/20\n",
      "30/30 [==============================] - 5s 117ms/step - loss: 0.0535 - acc: 0.9996 - val_loss: 0.3882 - val_acc: 0.8696\n",
      "Epoch 2/20\n",
      "30/30 [==============================] - 2s 68ms/step - loss: 0.0514 - acc: 0.9997 - val_loss: 0.4049 - val_acc: 0.8666\n",
      "Epoch 3/20\n",
      "30/30 [==============================] - 2s 81ms/step - loss: 0.0512 - acc: 0.9997 - val_loss: 0.4008 - val_acc: 0.8680\n",
      "Epoch 4/20\n",
      "30/30 [==============================] - 2s 69ms/step - loss: 0.0501 - acc: 0.9997 - val_loss: 0.3915 - val_acc: 0.8686\n",
      "Epoch 5/20\n",
      "30/30 [==============================] - 2s 69ms/step - loss: 0.0489 - acc: 0.9997 - val_loss: 0.3907 - val_acc: 0.8697\n",
      "Epoch 6/20\n",
      "30/30 [==============================] - 2s 72ms/step - loss: 0.0476 - acc: 0.9997 - val_loss: 0.3923 - val_acc: 0.8696\n",
      "Epoch 7/20\n",
      "30/30 [==============================] - 2s 70ms/step - loss: 0.0469 - acc: 0.9997 - val_loss: 0.3883 - val_acc: 0.8701\n",
      "Epoch 8/20\n",
      "30/30 [==============================] - 2s 54ms/step - loss: 0.0465 - acc: 0.9997 - val_loss: 0.3865 - val_acc: 0.8684\n",
      "Epoch 9/20\n",
      "30/30 [==============================] - 2s 51ms/step - loss: 0.0453 - acc: 0.9997 - val_loss: 0.3860 - val_acc: 0.8675\n",
      "Epoch 10/20\n",
      "30/30 [==============================] - 2s 68ms/step - loss: 0.0450 - acc: 0.9997 - val_loss: 0.3921 - val_acc: 0.8686\n",
      "Epoch 11/20\n",
      "30/30 [==============================] - 2s 68ms/step - loss: 0.0446 - acc: 0.9997 - val_loss: 0.3867 - val_acc: 0.8681\n",
      "Epoch 12/20\n",
      "30/30 [==============================] - 2s 61ms/step - loss: 0.0433 - acc: 0.9997 - val_loss: 0.3913 - val_acc: 0.8681\n",
      "Epoch 13/20\n",
      "30/30 [==============================] - 2s 70ms/step - loss: 0.0428 - acc: 0.9997 - val_loss: 0.3897 - val_acc: 0.8675\n",
      "Epoch 14/20\n",
      "30/30 [==============================] - 2s 61ms/step - loss: 0.0417 - acc: 0.9997 - val_loss: 0.3844 - val_acc: 0.8678\n",
      "Epoch 15/20\n",
      "30/30 [==============================] - 2s 55ms/step - loss: 0.0416 - acc: 0.9997 - val_loss: 0.3812 - val_acc: 0.8675\n",
      "Epoch 16/20\n",
      "30/30 [==============================] - 2s 64ms/step - loss: 0.0411 - acc: 0.9997 - val_loss: 0.3922 - val_acc: 0.8663\n",
      "Epoch 17/20\n",
      "30/30 [==============================] - 2s 80ms/step - loss: 0.0404 - acc: 0.9997 - val_loss: 0.3825 - val_acc: 0.8673\n",
      "Epoch 18/20\n",
      "30/30 [==============================] - 2s 64ms/step - loss: 0.0398 - acc: 0.9997 - val_loss: 0.4004 - val_acc: 0.8666\n",
      "Epoch 19/20\n",
      "30/30 [==============================] - 2s 74ms/step - loss: 0.0394 - acc: 0.9997 - val_loss: 0.3854 - val_acc: 0.8662\n",
      "Epoch 20/20\n",
      "30/30 [==============================] - 2s 55ms/step - loss: 0.0389 - acc: 0.9997 - val_loss: 0.4521 - val_acc: 0.8585\n",
      "782/782 [==============================] - 7s 9ms/step - loss: 0.4735 - acc: 0.8450\n",
      "____________________________________________________________________________________________________\n",
      "Test Loss & Accuracy\n",
      "results11  [0.47346019744873047, 0.8450400233268738]\n"
     ]
    },
    {
     "data": {
      "text/plain": [
       "dict_keys(['loss', 'acc', 'val_loss', 'val_acc'])"
      ]
     },
     "execution_count": 44,
     "metadata": {},
     "output_type": "execute_result"
    }
   ],
   "source": [
    "model11.compile(optimizer='rmsprop', loss='binary_crossentropy', metrics=['acc'])\n",
    "\n",
    "history11 = model11.fit(partial_x_training, partial_y_training, epochs=20, batch_size=512, validation_data=(x_value, y_value))\n",
    "\n",
    "results11= model11.evaluate(x_testing, y_testing)\n",
    "print(\"_\"*100)\n",
    "print(\"Test Loss & Accuracy\")\n",
    "print(\"results11 \", results11)\n",
    "history_dict11 = history11.history\n",
    "history_dict11.keys()"
   ]
  },
  {
   "cell_type": "code",
   "execution_count": null,
   "metadata": {
    "id": "OWChtLuVYP7M"
   },
   "outputs": [],
   "source": []
  },
  {
   "cell_type": "code",
   "execution_count": null,
   "metadata": {},
   "outputs": [],
   "source": []
  }
 ],
 "metadata": {
  "colab": {
   "provenance": []
  },
  "kernelspec": {
   "display_name": "Python 3 (ipykernel)",
   "language": "python",
   "name": "python3"
  },
  "language_info": {
   "codemirror_mode": {
    "name": "ipython",
    "version": 3
   },
   "file_extension": ".py",
   "mimetype": "text/x-python",
   "name": "python",
   "nbconvert_exporter": "python",
   "pygments_lexer": "ipython3",
   "version": "3.11.4"
  }
 },
 "nbformat": 4,
 "nbformat_minor": 1
}
